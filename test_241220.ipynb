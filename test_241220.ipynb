{
 "cells": [
  {
   "cell_type": "code",
   "execution_count": 1,
   "metadata": {},
   "outputs": [],
   "source": [
    "import torch"
   ]
  },
  {
   "cell_type": "code",
   "execution_count": 2,
   "metadata": {},
   "outputs": [],
   "source": [
    "data = torch.load(\"outputs/layer_outputs.pt\")"
   ]
  },
  {
   "cell_type": "code",
   "execution_count": 7,
   "metadata": {},
   "outputs": [
    {
     "data": {
      "text/plain": [
       "array([[-0.325382  , -0.35438505, -0.03327449, ...,  0.6863173 ,\n",
       "         0.15414886,  0.9217723 ],\n",
       "       [-0.8484559 ,  0.08135519, -1.0144547 , ...,  1.0099217 ,\n",
       "        -0.71190447,  0.61932117],\n",
       "       [-0.36735603,  0.46728063, -0.33690226, ...,  0.5291329 ,\n",
       "        -0.0127911 ,  0.7282471 ],\n",
       "       ...,\n",
       "       [-0.40741715,  0.10697062, -0.8446384 , ...,  0.6384827 ,\n",
       "        -0.02235159,  0.5557298 ],\n",
       "       [-0.4333368 ,  0.1889544 , -0.66536635, ...,  0.60807145,\n",
       "        -0.17343593,  0.4793113 ],\n",
       "       [-0.13238117, -0.44694135,  0.32929623, ...,  0.14905426,\n",
       "        -0.15476947,  0.20250933]], dtype=float32)"
      ]
     },
     "execution_count": 7,
     "metadata": {},
     "output_type": "execute_result"
    }
   ],
   "source": [
    "data[\"layer_11\"]"
   ]
  }
 ],
 "metadata": {
  "kernelspec": {
   "display_name": "d2l-env",
   "language": "python",
   "name": "python3"
  },
  "language_info": {
   "codemirror_mode": {
    "name": "ipython",
    "version": 3
   },
   "file_extension": ".py",
   "mimetype": "text/x-python",
   "name": "python",
   "nbconvert_exporter": "python",
   "pygments_lexer": "ipython3",
   "version": "3.9.19"
  }
 },
 "nbformat": 4,
 "nbformat_minor": 2
}
